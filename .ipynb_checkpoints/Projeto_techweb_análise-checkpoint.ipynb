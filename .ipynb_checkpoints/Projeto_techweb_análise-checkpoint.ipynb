{
 "cells": [
  {
   "cell_type": "markdown",
   "metadata": {},
   "source": [
    "# Projeto-Lello Imóveis\n"
   ]
  },
  {
   "cell_type": "markdown",
   "metadata": {},
   "source": [
    "# Análise do preço de aparmentos São paulo pelo site lello Imóveis \n"
   ]
  },
  {
   "cell_type": "markdown",
   "metadata": {},
   "source": [
    "Alunos:\n",
    "\n",
    "<li>Gabriel de Araújo Alves \n",
    "<li>Ricardo Mourão\n",
    "<li>Ykaro Andrade\n",
    "\n"
   ]
  },
  {
   "cell_type": "markdown",
   "metadata": {},
   "source": [
    "# 1. Introdução"
   ]
  },
  {
   "cell_type": "markdown",
   "metadata": {},
   "source": [
    "## 1.1 Como verificar o preço?"
   ]
  },
  {
   "cell_type": "markdown",
   "metadata": {},
   "source": [
    "<ul>Sabemos que o setor imobiliário é um setor muito procurado ao longo dos anos e atualmente.Por isso, primeiro é necessário, a partir do site do quinto andar, e,considerando apartamentos da cidade de São Paulo, podemos traçar uma estimativa de preços médios de apartamentos ou casas considerando alguns fatores como:<ul/>\n",
    "        <li> Área da casa ou apartamento\n",
    "        <li> Número de quartos \n",
    "        <li> Bairro\n",
    "        <li> rua  "
   ]
  },
  {
   "cell_type": "markdown",
   "metadata": {},
   "source": [
    "## 1.2 Importando Bibliotecas necessárias"
   ]
  },
  {
   "cell_type": "code",
   "execution_count": 20,
   "metadata": {},
   "outputs": [],
   "source": [
    "\n",
    "%matplotlib inline\n",
    "import math\n",
    "import os\n",
    "import seaborn as sns\n",
    "import matplotlib as plt\n",
    "import numpy as np\n",
    "from numpy import arange\n",
    "import pandas as pd\n",
    "from random import randint\n",
    "# Remove warnings\n",
    "import warnings\n",
    "warnings.filterwarnings('ignore')\n",
    "from IPython.display import display, HTML  # Para ter melhor print.\n",
    "from math import *\n",
    "# para nos comunicarmos com a Web\n",
    "import requests\n",
    "\n",
    "# para extrair informações de páginas HTML\n",
    "import bs4\n",
    "from bs4 import BeautifulSoup\n",
    "\n",
    "\n",
    "# Modelos preditivos\n",
    "from sklearn.tree import DecisionTreeClassifier\n",
    "from sklearn.ensemble import RandomForestClassifier\n",
    "from sklearn.linear_model import LogisticRegression\n",
    "\n",
    "# Módulos complementares para os modelos preditivos\n",
    "from sklearn.model_selection import train_test_split \n",
    "from sklearn.model_selection import cross_val_score\n",
    "from sklearn import metrics\n",
    "from sklearn.metrics import plot_confusion_matrix\n",
    "\n",
    "import time\n",
    "\n",
    "import plotly.express as px\n",
    "\n",
    "from ipywidgets import interact, interactive, fixed, interact_manual\n",
    "import ipywidgets as widgets\n"
   ]
  },
  {
   "cell_type": "markdown",
   "metadata": {},
   "source": [
    "## 1.3 Extração de Dados"
   ]
  },
  {
   "cell_type": "markdown",
   "metadata": {},
   "source": [
    "## 1.3.1 Definindo cabeçalho User-Agent"
   ]
  },
  {
   "cell_type": "code",
   "execution_count": 2,
   "metadata": {},
   "outputs": [],
   "source": [
    "headers = ({'User-Agent':\n",
    "            'Mozilla/5.0 (Windows NT 6.1) AppleWebKit/537.36 (KHTML, like Gecko) Chrome/41.0.2228.0 Safari/537.36'})"
   ]
  },
  {
   "cell_type": "markdown",
   "metadata": {},
   "source": [
    "## 1.3.2 Definindo Url de Busca"
   ]
  },
  {
   "cell_type": "code",
   "execution_count": 3,
   "metadata": {},
   "outputs": [],
   "source": [
    "url = 'https://www.lelloimoveis.com.br/venda/residencial/1-pagina/'#apenas primeira página"
   ]
  },
  {
   "cell_type": "markdown",
   "metadata": {},
   "source": [
    "## 1.3.3 Utilizando *requests* para baixar a página do Lello Imóveis\n",
    "\n",
    "Com o uso da biblioteca **requests**, podemos obter o **HTML** das páginas da LelloImóveis."
   ]
  },
  {
   "cell_type": "code",
   "execution_count": 4,
   "metadata": {},
   "outputs": [],
   "source": [
    "url = 'https://www.lelloimoveis.com.br/venda/residencial/1-pagina/'#considerando só a primeira página\n",
    "resposta = requests.get(url = url, headers=headers)\n",
    "resposta.json\n",
    "\n",
    "resposta.encoding = 'utf-8'\n",
    "\n",
    "# resposta.text"
   ]
  },
  {
   "cell_type": "code",
   "execution_count": 5,
   "metadata": {},
   "outputs": [],
   "source": [
    "soup = BeautifulSoup(resposta.text, 'html.parser')"
   ]
  },
  {
   "cell_type": "markdown",
   "metadata": {},
   "source": [
    "## 1.3.4-Considerando apenas a 1° página como exemplo"
   ]
  },
  {
   "cell_type": "code",
   "execution_count": 6,
   "metadata": {},
   "outputs": [
    {
     "name": "stdout",
     "output_type": "stream",
     "text": [
      "1\n"
     ]
    }
   ],
   "source": [
    "url = 'https://www.lelloimoveis.com.br/venda/residencial/1-pagina/'\n",
    "resposta = requests.get(url = url, headers=headers)\n",
    "\n",
    "ap = \"card-body\"  # Há no total 24 objetos com essa classe, mas os 12 primeiros são idênticos aos 12 últimos\n",
    "\n",
    "\n",
    "lista_total = []\n",
    "lista_aps = soup.find_all(class_=ap, limit=12)\n",
    "lista_total.append(lista_aps)\n",
    "print(len(lista_total)) #lista_total tem uma lista com os 12 elementos"
   ]
  },
  {
   "cell_type": "markdown",
   "metadata": {},
   "source": [
    "## 1.3.5-Pegando todas as páginas de apartamentos"
   ]
  },
  {
   "cell_type": "code",
   "execution_count": 7,
   "metadata": {},
   "outputs": [],
   "source": [
    "lista_total = []\n",
    "for i in range(1,100):\n",
    "    url = 'https://www.lelloimoveis.com.br/venda/residencial/{}-pagina/'.format(i)\n",
    "    resposta = requests.get(url = url, headers=headers)\n",
    "    soup = BeautifulSoup(resposta.content, 'html.parser')\n",
    "    lista_aps = soup.find_all(class_=ap, limit=12)\n",
    "    lista_total.append(lista_aps)"
   ]
  },
  {
   "cell_type": "markdown",
   "metadata": {},
   "source": [
    "## 1.3.6-Para cada página podemos achar todos os apartamentos "
   ]
  },
  {
   "cell_type": "code",
   "execution_count": 8,
   "metadata": {
    "scrolled": true
   },
   "outputs": [],
   "source": [
    "flat_list = [item for sublist in lista_total for item in sublist]  # todos os elementos encontrados individualmente\n"
   ]
  },
  {
   "cell_type": "markdown",
   "metadata": {},
   "source": [
    "## 1.3.7-Função para criação de dataFrame com informações relevantes e limpeza de dados"
   ]
  },
  {
   "cell_type": "code",
   "execution_count": 9,
   "metadata": {},
   "outputs": [],
   "source": [
    "def data(lista):\n",
    "    #listas necessárias\n",
    "    lista_tipo=[]\n",
    "    lista_rua=[]\n",
    "    lista_bairro=[]\n",
    "    lista_area=[]\n",
    "    lista_quartos=[]\n",
    "    lista_vagas=[]\n",
    "    lista_banheiros=[]\n",
    "    lista_aluguel_total=[]\n",
    "    \n",
    "\n",
    "\n",
    "    for i in range(0, len(lista)):\n",
    "        ap = lista[i] #procura cada lista de apartamentos\n",
    "        #tipo do ap\n",
    "        tipo=ap.find('div',attrs={'class': \"card-title h5\"}).text\n",
    "        lista_tipo.append(tipo)\n",
    "        #rua\n",
    "        rua=ap.find('p',attrs={'class': \"text-truncate mb-0\"}).text\n",
    "        lista_rua.append(rua)\n",
    "        #bairro\n",
    "        bairro=ap.find('span',attrs={'class': \"card-text-neighborhood mt-1 text-truncate\"}).text.split(',')[0]\n",
    "        lista_bairro.append(bairro)\n",
    "        #area do ap\n",
    "        area=ap.find('span',attrs={'class': \"tagItemstyle__TagValue-sc-13sggff-3 edPntf\"})\n",
    "        if area==None:\n",
    "            area=0\n",
    "        else:\n",
    "            area=int(ap.find('span',attrs={'class': \"tagItemstyle__TagValue-sc-13sggff-3 edPntf\"}).text.split(\"m²\")[0])\n",
    "        lista_area.append(area)\n",
    "        \n",
    "        #numero de quartos\n",
    "        quartos=ap.find('span',attrs={'class': \"tagItemstyle__ComplementValue-sc-13sggff-4 hERajv ml-0\"})\n",
    "        if quartos==None:\n",
    "            quartos=0            \n",
    "        else:\n",
    "            quartos=int(ap.find('span',attrs={'class': \"tagItemstyle__ComplementValue-sc-13sggff-4 hERajv ml-0\"}).text.split(\" \")[0])\n",
    "        lista_quartos.append(quartos)\n",
    "        #numero de vagas de carro\n",
    "        vagas_carro=ap.find('span',attrs={'data-testid': \"realty-parking-lot-quantity\"})\n",
    "        if vagas_carro==None:\n",
    "            vagas_carro=0\n",
    "        else:\n",
    "            vagas_carro=int(ap.find('span',attrs={'data-testid': \"realty-parking-lot-quantity\"}).text.split(\"Garagens\")[0])\n",
    "        lista_vagas.append(vagas_carro)\n",
    "        \n",
    "        #numero de banheiros\n",
    "        banheiros=ap.find('span',attrs={'data-testid':\"realty-bathroom-quantity\"})\n",
    "        if banheiros==None:\n",
    "            banheiros=0\n",
    "        else:                \n",
    "            banheiros=int(ap.find('span',attrs={'data-testid':\"realty-bathroom-quantity\"}).text.split(\"Banheiros\")[0])\n",
    "        lista_banheiros.append(banheiros)\n",
    "        #valor do aluguel\n",
    "        aluguel=ap.find('p',attrs={'class':\"mb-0 font-weight-bold\"})\n",
    "        if aluguel==None:\n",
    "            aluguel=0\n",
    "        else:\n",
    "            aluguel=int(ap.find('p',attrs={'class':\"mb-0 font-weight-bold\"}).text.split(\"R$\")[1].replace(\",\",\"\"))\n",
    "        lista_aluguel_total.append(aluguel)\n",
    "    \n",
    "    df = pd.DataFrame({'Tipo': lista_tipo,\n",
    "                   'Rua': lista_rua,\n",
    "                   'Bairro': lista_bairro,\n",
    "                   'Área': lista_area,\n",
    "                   'Quartos':lista_quartos,\n",
    "                    'Vagas':lista_vagas,\n",
    "                    'Banheiros':lista_banheiros,\n",
    "                   'Preço de Venda':lista_aluguel_total\n",
    "                  })\n",
    "        \n",
    "    return df\n",
    "\n"
   ]
  },
  {
   "cell_type": "markdown",
   "metadata": {},
   "source": [
    "# 1.3.9 Criando Dataframe com dados limpos"
   ]
  },
  {
   "cell_type": "code",
   "execution_count": 10,
   "metadata": {},
   "outputs": [
    {
     "data": {
      "text/html": [
       "<div>\n",
       "<style scoped>\n",
       "    .dataframe tbody tr th:only-of-type {\n",
       "        vertical-align: middle;\n",
       "    }\n",
       "\n",
       "    .dataframe tbody tr th {\n",
       "        vertical-align: top;\n",
       "    }\n",
       "\n",
       "    .dataframe thead th {\n",
       "        text-align: right;\n",
       "    }\n",
       "</style>\n",
       "<table border=\"1\" class=\"dataframe\">\n",
       "  <thead>\n",
       "    <tr style=\"text-align: right;\">\n",
       "      <th></th>\n",
       "      <th>Tipo</th>\n",
       "      <th>Rua</th>\n",
       "      <th>Bairro</th>\n",
       "      <th>Área</th>\n",
       "      <th>Quartos</th>\n",
       "      <th>Vagas</th>\n",
       "      <th>Banheiros</th>\n",
       "      <th>Preço de Venda</th>\n",
       "    </tr>\n",
       "  </thead>\n",
       "  <tbody>\n",
       "    <tr>\n",
       "      <th>0</th>\n",
       "      <td>Apartamento</td>\n",
       "      <td>Rua dos Capitães Mores</td>\n",
       "      <td>Mooca</td>\n",
       "      <td>87</td>\n",
       "      <td>3</td>\n",
       "      <td>2</td>\n",
       "      <td>2</td>\n",
       "      <td>620000</td>\n",
       "    </tr>\n",
       "    <tr>\n",
       "      <th>1</th>\n",
       "      <td>Apartamento</td>\n",
       "      <td>Rua Dias Leme</td>\n",
       "      <td>Mooca</td>\n",
       "      <td>79</td>\n",
       "      <td>2</td>\n",
       "      <td>1</td>\n",
       "      <td>1</td>\n",
       "      <td>560000</td>\n",
       "    </tr>\n",
       "    <tr>\n",
       "      <th>2</th>\n",
       "      <td>Apartamento</td>\n",
       "      <td>Rua do Orfanato</td>\n",
       "      <td>Vila Prudente</td>\n",
       "      <td>59</td>\n",
       "      <td>2</td>\n",
       "      <td>1</td>\n",
       "      <td>1</td>\n",
       "      <td>460000</td>\n",
       "    </tr>\n",
       "    <tr>\n",
       "      <th>3</th>\n",
       "      <td>Apartamento</td>\n",
       "      <td>Rua Álvares de Azevedo</td>\n",
       "      <td>Centro</td>\n",
       "      <td>133</td>\n",
       "      <td>3</td>\n",
       "      <td>1</td>\n",
       "      <td>2</td>\n",
       "      <td>550000</td>\n",
       "    </tr>\n",
       "    <tr>\n",
       "      <th>4</th>\n",
       "      <td>Apartamento</td>\n",
       "      <td>Rua Dianópolis</td>\n",
       "      <td>Parque da Mooca</td>\n",
       "      <td>43</td>\n",
       "      <td>2</td>\n",
       "      <td>1</td>\n",
       "      <td>1</td>\n",
       "      <td>320000</td>\n",
       "    </tr>\n",
       "    <tr>\n",
       "      <th>...</th>\n",
       "      <td>...</td>\n",
       "      <td>...</td>\n",
       "      <td>...</td>\n",
       "      <td>...</td>\n",
       "      <td>...</td>\n",
       "      <td>...</td>\n",
       "      <td>...</td>\n",
       "      <td>...</td>\n",
       "    </tr>\n",
       "    <tr>\n",
       "      <th>1183</th>\n",
       "      <td>Apartamento</td>\n",
       "      <td>Rua Serra de Bragança</td>\n",
       "      <td>Vila Gomes Cardim</td>\n",
       "      <td>84</td>\n",
       "      <td>3</td>\n",
       "      <td>1</td>\n",
       "      <td>2</td>\n",
       "      <td>477000</td>\n",
       "    </tr>\n",
       "    <tr>\n",
       "      <th>1184</th>\n",
       "      <td>Apartamento</td>\n",
       "      <td>Rua Ingaí</td>\n",
       "      <td>Vila Prudente</td>\n",
       "      <td>56</td>\n",
       "      <td>2</td>\n",
       "      <td>1</td>\n",
       "      <td>1</td>\n",
       "      <td>420000</td>\n",
       "    </tr>\n",
       "    <tr>\n",
       "      <th>1185</th>\n",
       "      <td>Apartamento</td>\n",
       "      <td>Av. Conselheiro Carrão</td>\n",
       "      <td>Vila Carrão</td>\n",
       "      <td>54</td>\n",
       "      <td>2</td>\n",
       "      <td>1</td>\n",
       "      <td>1</td>\n",
       "      <td>386000</td>\n",
       "    </tr>\n",
       "    <tr>\n",
       "      <th>1186</th>\n",
       "      <td>Apartamento</td>\n",
       "      <td>Rua Padre Raposo</td>\n",
       "      <td>Mooca</td>\n",
       "      <td>92</td>\n",
       "      <td>2</td>\n",
       "      <td>1</td>\n",
       "      <td>1</td>\n",
       "      <td>445000</td>\n",
       "    </tr>\n",
       "    <tr>\n",
       "      <th>1187</th>\n",
       "      <td>Apartamento</td>\n",
       "      <td>Rua Rego Barros</td>\n",
       "      <td>Jardim Vila Formosa</td>\n",
       "      <td>63</td>\n",
       "      <td>3</td>\n",
       "      <td>1</td>\n",
       "      <td>2</td>\n",
       "      <td>480000</td>\n",
       "    </tr>\n",
       "  </tbody>\n",
       "</table>\n",
       "<p>1188 rows × 8 columns</p>\n",
       "</div>"
      ],
      "text/plain": [
       "             Tipo                     Rua               Bairro  Área  Quartos  \\\n",
       "0     Apartamento  Rua dos Capitães Mores                Mooca    87        3   \n",
       "1     Apartamento           Rua Dias Leme                Mooca    79        2   \n",
       "2     Apartamento         Rua do Orfanato        Vila Prudente    59        2   \n",
       "3     Apartamento  Rua Álvares de Azevedo               Centro   133        3   \n",
       "4     Apartamento          Rua Dianópolis      Parque da Mooca    43        2   \n",
       "...           ...                     ...                  ...   ...      ...   \n",
       "1183  Apartamento   Rua Serra de Bragança    Vila Gomes Cardim    84        3   \n",
       "1184  Apartamento               Rua Ingaí        Vila Prudente    56        2   \n",
       "1185  Apartamento  Av. Conselheiro Carrão          Vila Carrão    54        2   \n",
       "1186  Apartamento        Rua Padre Raposo                Mooca    92        2   \n",
       "1187  Apartamento         Rua Rego Barros  Jardim Vila Formosa    63        3   \n",
       "\n",
       "      Vagas  Banheiros  Preço de Venda  \n",
       "0         2          2          620000  \n",
       "1         1          1          560000  \n",
       "2         1          1          460000  \n",
       "3         1          2          550000  \n",
       "4         1          1          320000  \n",
       "...     ...        ...             ...  \n",
       "1183      1          2          477000  \n",
       "1184      1          1          420000  \n",
       "1185      1          1          386000  \n",
       "1186      1          1          445000  \n",
       "1187      1          2          480000  \n",
       "\n",
       "[1188 rows x 8 columns]"
      ]
     },
     "execution_count": 10,
     "metadata": {},
     "output_type": "execute_result"
    }
   ],
   "source": [
    "frame=data(flat_list)\n",
    "frame"
   ]
  },
  {
   "cell_type": "markdown",
   "metadata": {},
   "source": [
    "# 2 Análise de Dados"
   ]
  },
  {
   "cell_type": "markdown",
   "metadata": {},
   "source": [
    "### 2.1 Verificação de Dados nulos na base"
   ]
  },
  {
   "cell_type": "code",
   "execution_count": 11,
   "metadata": {},
   "outputs": [
    {
     "data": {
      "text/plain": [
       "<AxesSubplot:>"
      ]
     },
     "execution_count": 11,
     "metadata": {},
     "output_type": "execute_result"
    },
    {
     "data": {
      "image/png": "[encoded data removed]",
      "text/plain": [
       "<Figure size 432x288 with 2 Axes>"
      ]
     },
     "metadata": {
      "needs_background": "light"
     },
     "output_type": "display_data"
    }
   ],
   "source": [
    "#utilização do heatmap para verificar dados nulos\n",
    "sns.heatmap(frame.isnull())"
   ]
  },
  {
   "cell_type": "markdown",
   "metadata": {},
   "source": [
    "### 2.2-Análise prévia das variáveis numéricas"
   ]
  },
  {
   "cell_type": "code",
   "execution_count": 73,
   "metadata": {
    "scrolled": true
   },
   "outputs": [
    {
     "data": {
      "text/html": [
       "<div>\n",
       "<style scoped>\n",
       "    .dataframe tbody tr th:only-of-type {\n",
       "        vertical-align: middle;\n",
       "    }\n",
       "\n",
       "    .dataframe tbody tr th {\n",
       "        vertical-align: top;\n",
       "    }\n",
       "\n",
       "    .dataframe thead th {\n",
       "        text-align: right;\n",
       "    }\n",
       "</style>\n",
       "<table border=\"1\" class=\"dataframe\">\n",
       "  <thead>\n",
       "    <tr style=\"text-align: right;\">\n",
       "      <th></th>\n",
       "      <th>Área</th>\n",
       "      <th>Quartos</th>\n",
       "      <th>Vagas</th>\n",
       "      <th>Banheiros</th>\n",
       "      <th>Preço de Venda</th>\n",
       "    </tr>\n",
       "  </thead>\n",
       "  <tbody>\n",
       "    <tr>\n",
       "      <th>count</th>\n",
       "      <td>1188.00</td>\n",
       "      <td>1188.00</td>\n",
       "      <td>1188.00</td>\n",
       "      <td>1188.00</td>\n",
       "      <td>1188.00</td>\n",
       "    </tr>\n",
       "    <tr>\n",
       "      <th>mean</th>\n",
       "      <td>74.50</td>\n",
       "      <td>2.30</td>\n",
       "      <td>1.14</td>\n",
       "      <td>1.45</td>\n",
       "      <td>511375.80</td>\n",
       "    </tr>\n",
       "    <tr>\n",
       "      <th>std</th>\n",
       "      <td>26.19</td>\n",
       "      <td>0.62</td>\n",
       "      <td>0.54</td>\n",
       "      <td>0.60</td>\n",
       "      <td>203302.56</td>\n",
       "    </tr>\n",
       "    <tr>\n",
       "      <th>min</th>\n",
       "      <td>20.00</td>\n",
       "      <td>0.00</td>\n",
       "      <td>0.00</td>\n",
       "      <td>0.00</td>\n",
       "      <td>300000.00</td>\n",
       "    </tr>\n",
       "    <tr>\n",
       "      <th>25%</th>\n",
       "      <td>57.00</td>\n",
       "      <td>2.00</td>\n",
       "      <td>1.00</td>\n",
       "      <td>1.00</td>\n",
       "      <td>368000.00</td>\n",
       "    </tr>\n",
       "    <tr>\n",
       "      <th>50%</th>\n",
       "      <td>68.00</td>\n",
       "      <td>2.00</td>\n",
       "      <td>1.00</td>\n",
       "      <td>1.00</td>\n",
       "      <td>430000.00</td>\n",
       "    </tr>\n",
       "    <tr>\n",
       "      <th>75%</th>\n",
       "      <td>87.00</td>\n",
       "      <td>3.00</td>\n",
       "      <td>1.00</td>\n",
       "      <td>2.00</td>\n",
       "      <td>587000.00</td>\n",
       "    </tr>\n",
       "    <tr>\n",
       "      <th>max</th>\n",
       "      <td>260.00</td>\n",
       "      <td>4.00</td>\n",
       "      <td>3.00</td>\n",
       "      <td>4.00</td>\n",
       "      <td>999000.00</td>\n",
       "    </tr>\n",
       "  </tbody>\n",
       "</table>\n",
       "</div>"
      ],
      "text/plain": [
       "          Área  Quartos    Vagas  Banheiros  Preço de Venda\n",
       "count  1188.00  1188.00  1188.00    1188.00         1188.00\n",
       "mean     74.50     2.30     1.14       1.45       511375.80\n",
       "std      26.19     0.62     0.54       0.60       203302.56\n",
       "min      20.00     0.00     0.00       0.00       300000.00\n",
       "25%      57.00     2.00     1.00       1.00       368000.00\n",
       "50%      68.00     2.00     1.00       1.00       430000.00\n",
       "75%      87.00     3.00     1.00       2.00       587000.00\n",
       "max     260.00     4.00     3.00       4.00       999000.00"
      ]
     },
     "execution_count": 73,
     "metadata": {},
     "output_type": "execute_result"
    }
   ],
   "source": [
    "frame.describe().round (decimals = 2)#considera-se somente as variáveis numéricas "
   ]
  },
  {
   "cell_type": "markdown",
   "metadata": {},
   "source": [
    "### 2.3-Análise do Preço de Venda em relação as outras variáveis numéricas"
   ]
  },
  {
   "cell_type": "markdown",
   "metadata": {},
   "source": [
    "#### 2.3.1-Análise gráfica"
   ]
  },
  {
   "cell_type": "code",
   "execution_count": 13,
   "metadata": {
    "scrolled": true
   },
   "outputs": [
    {
     "data": {
      "application/vnd.jupyter.widget-view+json": {
       "model_id": "9b65b06cc99d477f8cab50c9977e9bdc",
       "version_major": 2,
       "version_minor": 0
      },
      "text/plain": [
       "interactive(children=(Dropdown(description='categorias', options=('Banheiros', 'Quartos', 'Vagas', 'Área'), va…"
      ]
     },
     "metadata": {},
     "output_type": "display_data"
    }
   ],
   "source": [
    "# análise interativa das variáveis categóricas\n",
    "@interact(categorias=sorted([\"Área\",\"Quartos\",\"Vagas\",\"Banheiros\"]),\n",
    "                            nomes=[\"Área do apartamento\",\"número de quartos\",\"número de Vagas\",\"número de Banheiros\"])\n",
    "\n",
    "def grafico_numericas(categorias,nomes):\n",
    "    fig  = px.scatter(frame, x = frame[categorias], y = 'Preço de Venda', log_x = True, width = 800)\n",
    "    fig.update_traces(marker = dict(size = 12, line=dict(width = 2)), selector = dict(mode = 'markers'))\n",
    "    fig.update_layout(title = f'{nomes} X Preço de Venda')\n",
    "    fig.update_xaxes(title = f'{nomes}')\n",
    "    fig.update_yaxes(title = 'Preço de Venda')\n",
    "    fig.show()\n",
    "       \n"
   ]
  },
  {
   "cell_type": "markdown",
   "metadata": {},
   "source": [
    "### 2.4 Análise por meio da correlação"
   ]
  },
  {
   "cell_type": "code",
   "execution_count": 71,
   "metadata": {},
   "outputs": [
    {
     "data": {
      "text/html": [
       "<div>\n",
       "<style scoped>\n",
       "    .dataframe tbody tr th:only-of-type {\n",
       "        vertical-align: middle;\n",
       "    }\n",
       "\n",
       "    .dataframe tbody tr th {\n",
       "        vertical-align: top;\n",
       "    }\n",
       "\n",
       "    .dataframe thead th {\n",
       "        text-align: right;\n",
       "    }\n",
       "</style>\n",
       "<table border=\"1\" class=\"dataframe\">\n",
       "  <thead>\n",
       "    <tr style=\"text-align: right;\">\n",
       "      <th></th>\n",
       "      <th>Área</th>\n",
       "      <th>Quartos</th>\n",
       "      <th>Vagas</th>\n",
       "      <th>Banheiros</th>\n",
       "      <th>Preço de Venda</th>\n",
       "    </tr>\n",
       "  </thead>\n",
       "  <tbody>\n",
       "    <tr>\n",
       "      <th>Área</th>\n",
       "      <td>1.00</td>\n",
       "      <td>0.56</td>\n",
       "      <td>0.24</td>\n",
       "      <td>0.42</td>\n",
       "      <td>0.52</td>\n",
       "    </tr>\n",
       "    <tr>\n",
       "      <th>Quartos</th>\n",
       "      <td>0.56</td>\n",
       "      <td>1.00</td>\n",
       "      <td>0.30</td>\n",
       "      <td>0.41</td>\n",
       "      <td>0.27</td>\n",
       "    </tr>\n",
       "    <tr>\n",
       "      <th>Vagas</th>\n",
       "      <td>0.24</td>\n",
       "      <td>0.30</td>\n",
       "      <td>1.00</td>\n",
       "      <td>0.37</td>\n",
       "      <td>0.36</td>\n",
       "    </tr>\n",
       "    <tr>\n",
       "      <th>Banheiros</th>\n",
       "      <td>0.42</td>\n",
       "      <td>0.41</td>\n",
       "      <td>0.37</td>\n",
       "      <td>1.00</td>\n",
       "      <td>0.39</td>\n",
       "    </tr>\n",
       "    <tr>\n",
       "      <th>Preço de Venda</th>\n",
       "      <td>0.52</td>\n",
       "      <td>0.27</td>\n",
       "      <td>0.36</td>\n",
       "      <td>0.39</td>\n",
       "      <td>1.00</td>\n",
       "    </tr>\n",
       "  </tbody>\n",
       "</table>\n",
       "</div>"
      ],
      "text/plain": [
       "                Área  Quartos  Vagas  Banheiros  Preço de Venda\n",
       "Área            1.00     0.56   0.24       0.42            0.52\n",
       "Quartos         0.56     1.00   0.30       0.41            0.27\n",
       "Vagas           0.24     0.30   1.00       0.37            0.36\n",
       "Banheiros       0.42     0.41   0.37       1.00            0.39\n",
       "Preço de Venda  0.52     0.27   0.36       0.39            1.00"
      ]
     },
     "execution_count": 71,
     "metadata": {},
     "output_type": "execute_result"
    }
   ],
   "source": [
    "#identificacao da correlacao entre o Preço de Venda e as outras vairaveis numericas\n",
    "frame.corr().round (decimals = 2)"
   ]
  },
  {
   "cell_type": "code",
   "execution_count": 93,
   "metadata": {
    "scrolled": true
   },
   "outputs": [
    {
     "data": {
      "text/plain": [
       "<AxesSubplot:>"
      ]
     },
     "execution_count": 93,
     "metadata": {},
     "output_type": "execute_result"
    },
    {
     "data": {
      "image/png": "[encoded data removed]",
      "text/plain": [
       "<Figure size 432x288 with 2 Axes>"
      ]
     },
     "metadata": {
      "needs_background": "light"
     },
     "output_type": "display_data"
    }
   ],
   "source": [
    "#2° abordadagem\n",
    "#variáveis necesssárias\n",
    "corr=frame.corr()\n",
    "mask = np.triu(np.ones_like(corr, dtype=bool))\n",
    "cmap = sns.diverging_palette(230, 20, as_cmap=True)\n",
    "#correlação\n",
    "sns.heatmap(corr, annot=True, mask = mask, cmap=cmap)\n"
   ]
  },
  {
   "cell_type": "markdown",
   "metadata": {},
   "source": [
    "### 2.5 Considerando Banheiros ,Vagas ,Quartos como variáveis categóricas"
   ]
  },
  {
   "cell_type": "markdown",
   "metadata": {},
   "source": [
    "#### 2.5.1 Introduzindo outra variável considerando o Preço de Venda do imóvel por intervalos"
   ]
  },
  {
   "cell_type": "code",
   "execution_count": 57,
   "metadata": {},
   "outputs": [],
   "source": [
    "frame1=frame['Preço de Venda'].sort_values()\n",
    "preco_venda_mod=pd.cut(frame1,8)\n",
    "frame['Preco_venda_mod']=preco_venda_mod\n"
   ]
  },
  {
   "cell_type": "markdown",
   "metadata": {},
   "source": [
    "#### 2.5.2 Análise por tabela cruzada e gráfica"
   ]
  },
  {
   "cell_type": "code",
   "execution_count": 69,
   "metadata": {
    "scrolled": true
   },
   "outputs": [
    {
     "data": {
      "application/vnd.jupyter.widget-view+json": {
       "model_id": "d5a17dbef1b7418bb7b9d9ccab2c1d36",
       "version_major": 2,
       "version_minor": 0
      },
      "text/plain": [
       "interactive(children=(Dropdown(description='categorias', options=('Banheiros', 'Quartos', 'Vagas'), value='Ban…"
      ]
     },
     "metadata": {},
     "output_type": "display_data"
    }
   ],
   "source": [
    "# análise interativa das variáveis categóricas\n",
    "@interact(categorias=sorted(['Quartos', 'Vagas', 'Banheiros']))\n",
    "#função que faz a tabela_cruzada bem como o gráfico barplot para as categóricas\n",
    "def tabela_cruzada(categorias):\n",
    "    tabela=pd.crosstab(index=preco_venda_mod,columns=frame[categorias],normalize='index').round(decimals=4)*100\n",
    "    display(HTML(tabela.to_html()))\n",
    "    sns.catplot(x=categorias, y=\"Preço de Venda\",\n",
    "            kind=\"box\", dodge=False, data=frame)\n"
   ]
  },
  {
   "cell_type": "code",
   "execution_count": 86,
   "metadata": {},
   "outputs": [
    {
     "name": "stdout",
     "output_type": "stream",
     "text": [
      "46\n"
     ]
    }
   ],
   "source": [
    "bairros=frame.Bairro.unique()\n",
    "apartamentos_num=frame.Bairro.value_counts().values\n",
    "lista_bairros=[]\n",
    "for i in range(len(bairros)):\n",
    "    if apartamentos_num[i]>5:\n",
    "        lista_bairros.append(bairros[i])\n",
    "print(len(lista_bairros))   "
   ]
  },
  {
   "cell_type": "code",
   "execution_count": null,
   "metadata": {},
   "outputs": [],
   "source": []
  }
 ],
 "metadata": {
  "interpreter": {
   "hash": "c4f92193806e2908606a5f23edd55a5282f2f433b73b1c504507f9256ed9f0b4"
  },
  "kernelspec": {
   "display_name": "Python 3",
   "language": "python",
   "name": "python3"
  },
  "language_info": {
   "codemirror_mode": {
    "name": "ipython",
    "version": 3
   },
   "file_extension": ".py",
   "mimetype": "text/x-python",
   "name": "python",
   "nbconvert_exporter": "python",
   "pygments_lexer": "ipython3",
   "version": "3.8.5"
  }
 },
 "nbformat": 4,
 "nbformat_minor": 4
}
